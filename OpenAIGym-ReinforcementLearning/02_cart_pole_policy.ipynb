{
 "cells": [
  {
   "cell_type": "markdown",
   "metadata": {},
   "source": [
    "# CartPole Policy"
   ]
  },
  {
   "cell_type": "code",
   "execution_count": 1,
   "metadata": {},
   "outputs": [],
   "source": [
    "import gym\n",
    "import numpy as np\n",
    "import math\n",
    "from collections import deque"
   ]
  },
  {
   "cell_type": "code",
   "execution_count": 12,
   "metadata": {},
   "outputs": [],
   "source": [
    "class QLearning():\n",
    "    def __init__(self, buckets,numberOfEpisodes, desiredScore ,learningRate, epsilon, gamma, div, envSteps=None, quiet=False, monitor=False):\n",
    "        self.buckets = buckets\n",
    "        self.numberOfEpisodes = numberOfEpisodes\n",
    "        self.desiredScore = desiredScore\n",
    "        self.learningRate = learningRate\n",
    "        self.epsilon = epsilon\n",
    "        self.gamma = gamma\n",
    "        self.div = div\n",
    "        self.quiet = quiet\n",
    "        \n",
    "        self.env = gym.make('CartPole-v1')\n",
    "        if envSteps is not None: \n",
    "            self.env._max_episode_steps = envSteps  \n",
    "        self.q = np.zeros(self.buckets + (self.env.action_space.n,))\n",
    "\n",
    "    def discretize(self, obs):\n",
    "        upper_bounds = [self.env.observation_space.high[0], 0.5, self.env.observation_space.high[2], math.radians(50)]\n",
    "        lower_bounds = [self.env.observation_space.low[0], -0.5, self.env.observation_space.low[2], -math.radians(50)]\n",
    "        ratios = [(obs[i] + abs(lower_bounds[i])) / (upper_bounds[i] - lower_bounds[i]) for i in range(len(obs))]\n",
    "        new_obs = [int(round((self.buckets[i] - 1) * ratios[i])) for i in range(len(obs))]\n",
    "        new_obs = [min(self.buckets[i] - 1, max(0, new_obs[i])) for i in range(len(obs))]\n",
    "        return tuple(new_obs)\n",
    "        \n",
    "    def action(self, state, epsilon):\n",
    "        return self.env.action_space.sample() if (np.random.random() <= epsilon) else np.argmax(self.q[state])\n",
    "    \n",
    "    def updateQTable(self, state_old, action, reward, state_new, alpha):\n",
    "        self.q[state_old][action] += alpha * (reward + self.gamma * np.max(self.q[state_new]) - self.q[state_old][action])\n",
    "\n",
    "    def calcEpsilon(self, t, div):\n",
    "        return max(self.epsilon, min(1, 1.0 - ((t + 1) / div)))\n",
    "\n",
    "    def calcLearningRate(self, t, div):\n",
    "        return max(self.learningRate, min(1.0, 1.0 - ((t + 1) / div)))\n",
    "    \n",
    "    def runEpisode(self):\n",
    "        scores = deque(maxlen=100)\n",
    "        for i in range(numberOfEpisodes):\n",
    "            s_raw = self.env.reset()\n",
    "            s = self.discretize(s_raw)\n",
    "            lr = self.calcLearningRate(i, div)\n",
    "            ep = self.calcEpsilon(i, div)\n",
    "            done = False\n",
    "            j = 1\n",
    "            while not done:\n",
    "                self.env.render()\n",
    "                a = self.action(s,ep)\n",
    "                obs, r, done, info = self.env.step(a)\n",
    "                \n",
    "                s1 = self.discretize(obs)\n",
    "                self.updateQTable(s, a, r, s1, lr)\n",
    "                s = s1\n",
    "                j+=1\n",
    "            scores.append(j)\n",
    "            meanScore = np.mean(scores)\n",
    "            if meanScore >= self.desiredScore and i >= 100:\n",
    "                if not self.quiet:\n",
    "                    print('Completed {} episodes. Solved after {}'.format(i, i - 100), \" score :\", meanScore)\n",
    "                    return i-100\n",
    "\n",
    "            if i % 100 == 0 and not self.quiet:\n",
    "                print('[Episode {}] - Average survival time over last 100 episodes was {}.'.format(i, meanScore))\n",
    "\n",
    "        if not self.quiet: \n",
    "            print('Did not solve after {} episodes :'.format(i))\n",
    "            return i\n",
    "        self.env.close()"
   ]
  },
  {
   "cell_type": "code",
   "execution_count": 13,
   "metadata": {},
   "outputs": [
    {
     "name": "stdout",
     "output_type": "stream",
     "text": [
      "[Episode 0] - Average survival time over last 100 episodes was 14.0.\n",
      "[Episode 100] - Average survival time over last 100 episodes was 72.5.\n",
      "[Episode 200] - Average survival time over last 100 episodes was 173.18.\n",
      "[Episode 300] - Average survival time over last 100 episodes was 175.12.\n",
      "('Completed 356 episodes. Solved after 256', ' score :', 201.0)\n"
     ]
    },
    {
     "data": {
      "text/plain": [
       "256"
      ]
     },
     "execution_count": 13,
     "metadata": {},
     "output_type": "execute_result"
    }
   ],
   "source": [
    "buckets=(1, 1, 6, 12,)\n",
    "numberOfEpisodes = 1000\n",
    "desiredScore = 200\n",
    "learningRate = 0.1 \n",
    "gamma = 1.0\n",
    "epsilon = 0.1\n",
    "div = 25\n",
    "\n",
    "solver = QLearning(buckets, numberOfEpisodes, desiredScore, learningRate, epsilon, gamma, div)\n",
    "solver.runEpisode()"
   ]
  },
  {
   "cell_type": "code",
   "execution_count": null,
   "metadata": {},
   "outputs": [],
   "source": []
  }
 ],
 "metadata": {
  "kernelspec": {
   "display_name": "Python 2",
   "language": "python",
   "name": "python2"
  },
  "language_info": {
   "codemirror_mode": {
    "name": "ipython",
    "version": 2
   },
   "file_extension": ".py",
   "mimetype": "text/x-python",
   "name": "python",
   "nbconvert_exporter": "python",
   "pygments_lexer": "ipython2",
   "version": "2.7.15"
  }
 },
 "nbformat": 4,
 "nbformat_minor": 2
}
