{
 "cells": [
  {
   "cell_type": "markdown",
   "metadata": {},
   "source": [
    "# Tabular Q-learning for the toy problem frozen lake #"
   ]
  },
  {
   "cell_type": "markdown",
   "metadata": {},
   "source": [
    "## Frozen lake ##"
   ]
  },
  {
   "cell_type": "markdown",
   "metadata": {},
   "source": [
    "Winter is here. You and your friends were tossing around a frisbee at the park when you made a wild throw that left the frisbee out in the middle of the lake. The water is mostly frozen, but there are a few holes where the ice has melted. If you step into one of those holes, you'll fall into the freezing water. At this time, there's an international frisbee shortage, so it's absolutely imperative that you navigate across the lake and retrieve the disc. However, the ice is slippery, so you won't always move in the direction you intend.\n",
    "The surface is described using a grid like the following:\n",
    "\n",
    "SFFF  \n",
    "FHFH  \n",
    "FFFH  \n",
    "HFFG  \n",
    "\n",
    "S: starting point, safe  \n",
    "F: frozen surface, safe  \n",
    "H: hole, fall to your doom  \n",
    "G: goal, where the frisbee is located\n",
    "\n",
    "The episode ends when you reach the goal or fall in a hole. You receive a reward of 1 if you reach the goal, and zero otherwise.\n",
    "\n",
    "https://gym.openai.com/envs/FrozenLake-v0/\n",
    "\n",
    "https://github.com/openai/gym/blob/master/gym/envs/toy_text/frozen_lake.py"
   ]
  },
  {
   "cell_type": "markdown",
   "metadata": {},
   "source": [
    "## Imports ##"
   ]
  },
  {
   "cell_type": "code",
   "execution_count": 1,
   "metadata": {},
   "outputs": [],
   "source": [
    "import numpy as np\n",
    "import gym\n",
    "import random\n",
    "\n",
    "%matplotlib inline\n",
    "import matplotlib.pyplot as plt"
   ]
  },
  {
   "cell_type": "markdown",
   "metadata": {},
   "source": [
    "## Create frozen lake environment ##"
   ]
  },
  {
   "cell_type": "code",
   "execution_count": 2,
   "metadata": {},
   "outputs": [],
   "source": [
    "env = gym.make(\"FrozenLake-v0\")"
   ]
  },
  {
   "cell_type": "markdown",
   "metadata": {},
   "source": [
    "## Create Q table and initialize it ##"
   ]
  },
  {
   "cell_type": "code",
   "execution_count": 3,
   "metadata": {},
   "outputs": [],
   "source": [
    "action_size = env.action_space.n\n",
    "state_size = env.observation_space.n"
   ]
  },
  {
   "cell_type": "code",
   "execution_count": 4,
   "metadata": {},
   "outputs": [
    {
     "name": "stdout",
     "output_type": "stream",
     "text": [
      "Number of states: 16\n",
      "Number of actions: 4\n"
     ]
    }
   ],
   "source": [
    "print(\"Number of states:\", state_size)\n",
    "print(\"Number of actions:\", action_size)"
   ]
  },
  {
   "cell_type": "code",
   "execution_count": 5,
   "metadata": {},
   "outputs": [],
   "source": [
    "q_table = np.zeros((state_size, action_size))"
   ]
  },
  {
   "cell_type": "code",
   "execution_count": 6,
   "metadata": {},
   "outputs": [
    {
     "data": {
      "text/plain": [
       "array([[0., 0., 0., 0.],\n",
       "       [0., 0., 0., 0.],\n",
       "       [0., 0., 0., 0.],\n",
       "       [0., 0., 0., 0.],\n",
       "       [0., 0., 0., 0.],\n",
       "       [0., 0., 0., 0.],\n",
       "       [0., 0., 0., 0.],\n",
       "       [0., 0., 0., 0.],\n",
       "       [0., 0., 0., 0.],\n",
       "       [0., 0., 0., 0.],\n",
       "       [0., 0., 0., 0.],\n",
       "       [0., 0., 0., 0.],\n",
       "       [0., 0., 0., 0.],\n",
       "       [0., 0., 0., 0.],\n",
       "       [0., 0., 0., 0.],\n",
       "       [0., 0., 0., 0.]])"
      ]
     },
     "execution_count": 6,
     "metadata": {},
     "output_type": "execute_result"
    }
   ],
   "source": [
    "q_table"
   ]
  },
  {
   "cell_type": "code",
   "execution_count": 7,
   "metadata": {},
   "outputs": [],
   "source": [
    "total_episodes = 25000        # Total episodes\n",
    "learning_rate = 0.1           # Learning rate\n",
    "max_steps = 99                # Max steps per episode\n",
    "gamma = 0.995                 # Discount \n",
    "\n",
    "# Parameters for epsilon greedy strategy\n",
    "epsilon = 1.0                 # Exploration probability\n",
    "max_epsilon = 1.0             # Exploration probability at start\n",
    "min_epsilon = 0.0             # Minimum exploration probability \n",
    "decay_rate = 0.0005           # Exponential decay rate for exploration prob"
   ]
  },
  {
   "cell_type": "code",
   "execution_count": 8,
   "metadata": {},
   "outputs": [
    {
     "name": "stdout",
     "output_type": "stream",
     "text": [
      "Episode     0, total reward 0.0, epsilon 1.000000\n",
      "Episode  1000, total reward 0.0, epsilon 0.606834\n",
      "Episode  2000, total reward 0.0, epsilon 0.368063\n",
      "Episode  3000, total reward 1.0, epsilon 0.223242\n",
      "Episode  4000, total reward 0.0, epsilon 0.135403\n",
      "Episode  5000, total reward 0.0, epsilon 0.082126\n",
      "Episode  6000, total reward 1.0, epsilon 0.049812\n",
      "Episode  7000, total reward 1.0, epsilon 0.030212\n",
      "Episode  8000, total reward 1.0, epsilon 0.018325\n",
      "Episode  9000, total reward 1.0, epsilon 0.011115\n",
      "Episode 10000, total reward 1.0, epsilon 0.006741\n",
      "Episode 11000, total reward 1.0, epsilon 0.004089\n",
      "Episode 12000, total reward 1.0, epsilon 0.002480\n",
      "Episode 13000, total reward 1.0, epsilon 0.001504\n",
      "Episode 14000, total reward 1.0, epsilon 0.000912\n",
      "Episode 15000, total reward 1.0, epsilon 0.000553\n",
      "Episode 16000, total reward 1.0, epsilon 0.000336\n",
      "Episode 17000, total reward 1.0, epsilon 0.000204\n",
      "Episode 18000, total reward 1.0, epsilon 0.000123\n",
      "Episode 19000, total reward 1.0, epsilon 0.000075\n",
      "Episode 20000, total reward 1.0, epsilon 0.000045\n",
      "Episode 21000, total reward 0.0, epsilon 0.000028\n",
      "Episode 22000, total reward 1.0, epsilon 0.000017\n",
      "Episode 23000, total reward 1.0, epsilon 0.000010\n",
      "Episode 24000, total reward 1.0, epsilon 0.000006\n"
     ]
    }
   ],
   "source": [
    "episode_reward_list = []\n",
    "\n",
    "for episode in range(total_episodes):\n",
    "    # reset the environment\n",
    "    state = env.reset()\n",
    "    total_reward = 0\n",
    "    \n",
    "    for step in range(max_steps):\n",
    "        # epsilon greedy strategy \n",
    "        if random.uniform(0.0, 1.0) <= epsilon:\n",
    "            # random choice\n",
    "            action = env.action_space.sample()\n",
    "        else:\n",
    "            # select best action in state s\n",
    "            # a = argmax_a' q(s,a')\n",
    "            action = np.argmax(q_table[state,:])\n",
    "\n",
    "        # take action a, get reward r, and observe next_state s'\n",
    "        new_state, reward, done, _ = env.step(action)\n",
    "        \n",
    "        # update q table according to transition (s, a, r, s')\n",
    "        # q(s,a) := q(s,a) + alpha [r + gamma * max q(s',a') - q(s,a)]\n",
    "        q_table[state, action] += learning_rate * (reward + gamma * np.max(q_table[new_state, :]) - q_table[state, action])\n",
    "        \n",
    "        total_reward += reward\n",
    "                \n",
    "        # If done, then finish episode, else update state\n",
    "        if done: \n",
    "            break\n",
    "        else:\n",
    "            state = new_state\n",
    "\n",
    "    if episode % 1000 == 0: \n",
    "        print(\"Episode {0:5}, total reward {1:.1f}, epsilon {2:.6f}\".format(episode, total_reward, epsilon))\n",
    "            \n",
    "    # decrease epsilon \n",
    "    epsilon = min_epsilon + (max_epsilon - min_epsilon) * np.exp(-decay_rate * episode) \n",
    "    episode_reward_list.append((episode, total_reward))"
   ]
  },
  {
   "cell_type": "markdown",
   "metadata": {},
   "source": [
    "## Visualize learning progress ##"
   ]
  },
  {
   "cell_type": "code",
   "execution_count": 9,
   "metadata": {},
   "outputs": [],
   "source": [
    "def running_mean(x, N):\n",
    "    cumsum = np.cumsum(np.insert(x, 0, 0)) \n",
    "    return (cumsum[N:] - cumsum[:-N]) / N"
   ]
  },
  {
   "cell_type": "code",
   "execution_count": 10,
   "metadata": {},
   "outputs": [
    {
     "data": {
      "text/plain": [
       "Text(0,0.5,'Total Reward')"
      ]
     },
     "execution_count": 10,
     "metadata": {},
     "output_type": "execute_result"
    },
    {
     "data": {
      "image/png": "[encoded data removed]",
      "text/plain": [
       "<Figure size 432x288 with 1 Axes>"
      ]
     },
     "metadata": {},
     "output_type": "display_data"
    }
   ],
   "source": [
    "eps, rews = np.array(episode_reward_list).T\n",
    "smoothed_rews = running_mean(rews, 100)\n",
    "plt.plot(eps[-len(smoothed_rews):], smoothed_rews)\n",
    "plt.xlabel('Episode')\n",
    "plt.ylabel('Total Reward')"
   ]
  },
  {
   "cell_type": "markdown",
   "metadata": {},
   "source": [
    "## Observe trained agent ##"
   ]
  },
  {
   "cell_type": "code",
   "execution_count": 11,
   "metadata": {},
   "outputs": [
    {
     "name": "stdout",
     "output_type": "stream",
     "text": [
      "  (Down)\n",
      "SFFF\n",
      "FHFH\n",
      "FFFH\n",
      "HFF\u001b[41mG\u001b[0m\n",
      "Agent got frisbee in step  11.\n",
      "\n",
      "  (Down)\n",
      "SFFF\n",
      "FHFH\n",
      "FFFH\n",
      "HFF\u001b[41mG\u001b[0m\n",
      "Agent got frisbee in step  61.\n",
      "\n",
      "  (Down)\n",
      "SFFF\n",
      "FHFH\n",
      "FFFH\n",
      "HFF\u001b[41mG\u001b[0m\n",
      "Agent got frisbee in step  40.\n",
      "\n",
      "  (Down)\n",
      "SFFF\n",
      "FHFH\n",
      "FFFH\n",
      "HFF\u001b[41mG\u001b[0m\n",
      "Agent got frisbee in step  97.\n",
      "\n",
      "  (Down)\n",
      "SFFF\n",
      "FHFH\n",
      "FFFH\n",
      "HFF\u001b[41mG\u001b[0m\n",
      "Agent got frisbee in step  71.\n",
      "\n",
      "  (Down)\n",
      "SFFF\n",
      "FHFH\n",
      "FFFH\n",
      "HFF\u001b[41mG\u001b[0m\n",
      "Agent got frisbee in step  59.\n",
      "\n",
      "  (Down)\n",
      "SFFF\n",
      "FHFH\n",
      "FFFH\n",
      "HFF\u001b[41mG\u001b[0m\n",
      "Agent got frisbee in step  15.\n",
      "\n",
      "  (Down)\n",
      "SFFF\n",
      "FHFH\n",
      "FFFH\n",
      "HFF\u001b[41mG\u001b[0m\n",
      "Agent got frisbee in step  27.\n",
      "\n",
      "  (Down)\n",
      "SFFF\n",
      "FHFH\n",
      "FFFH\n",
      "HFF\u001b[41mG\u001b[0m\n",
      "Agent got frisbee in step  13.\n",
      "\n"
     ]
    }
   ],
   "source": [
    "env.reset()\n",
    "\n",
    "for episode in range(10):\n",
    "    state = env.reset()\n",
    "\n",
    "    for step in range(max_steps):\n",
    "        \n",
    "        # take the best action\n",
    "        action = np.argmax(q_table[state,:])\n",
    "        \n",
    "        new_state, reward, done, _ = env.step(action)\n",
    "        \n",
    "        if done:\n",
    "            # show terminal state\n",
    "            env.render()\n",
    "            \n",
    "            # We print the number of step it took.\n",
    "            if reward == 1:\n",
    "                print(\"Agent got frisbee in step {0:3}.\".format(step))\n",
    "            else:\n",
    "                print(\"Agent fell into frozen lake in step {0:3}.\".format(step))\n",
    "            print()\n",
    "            break\n",
    "        state = new_state\n",
    "        \n",
    "env.close()"
   ]
  },
  {
   "cell_type": "code",
   "execution_count": null,
   "metadata": {},
   "outputs": [],
   "source": []
  }
 ],
 "metadata": {
  "kernelspec": {
   "display_name": "Python 3",
   "language": "python",
   "name": "python3"
  },
  "language_info": {
   "codemirror_mode": {
    "name": "ipython",
    "version": 3
   },
   "file_extension": ".py",
   "mimetype": "text/x-python",
   "name": "python",
   "nbconvert_exporter": "python",
   "pygments_lexer": "ipython3",
   "version": "3.6.5"
  }
 },
 "nbformat": 4,
 "nbformat_minor": 2
}
