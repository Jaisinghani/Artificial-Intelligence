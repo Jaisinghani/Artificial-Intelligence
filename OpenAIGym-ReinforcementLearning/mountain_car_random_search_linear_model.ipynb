{
 "cells": [
  {
   "cell_type": "markdown",
   "metadata": {},
   "source": [
    "# Random search for successful linear model agent for mountain car #"
   ]
  },
  {
   "cell_type": "code",
   "execution_count": 1,
   "metadata": {},
   "outputs": [],
   "source": [
    "import gym\n",
    "import numpy as np\n",
    "\n",
    "%matplotlib inline\n",
    "import matplotlib.pyplot as plt\n",
    "\n",
    "import time"
   ]
  },
  {
   "cell_type": "code",
   "execution_count": 2,
   "metadata": {},
   "outputs": [
    {
     "name": "stdout",
     "output_type": "stream",
     "text": [
      "\u001b[33mWARN: gym.spaces.Box autodetected dtype as <class 'numpy.float32'>. Please provide explicit dtype.\u001b[0m\n"
     ]
    }
   ],
   "source": [
    "env = gym.make(\"MountainCar-v0\")"
   ]
  },
  {
   "cell_type": "markdown",
   "metadata": {},
   "source": [
    "## Evaluate linear model agent for one episode ##"
   ]
  },
  {
   "cell_type": "code",
   "execution_count": 3,
   "metadata": {},
   "outputs": [],
   "source": [
    "# run one episode \n",
    "def run_episode(weight_vector):\n",
    "    state = env.reset()\n",
    "    total_reward = 0\n",
    "    for _ in np.arange(200):\n",
    "        # state is a 2 dimensional vector\n",
    "        # weight vector is also a 2 dimensional vector\n",
    "        # the action is 0 if the inner product of weight vector and state is negative \n",
    "        #               2                                                    non-negative\n",
    "        action = 0 if np.matmul(weight_vector, state) < 0 else 2\n",
    "        state, reward, done, _ = env.step(action)\n",
    "        total_reward += reward\n",
    "        if done:\n",
    "            break\n",
    "    return total_reward"
   ]
  },
  {
   "cell_type": "markdown",
   "metadata": {},
   "source": [
    "## Keep guessing linear model agents till success ##"
   ]
  },
  {
   "cell_type": "code",
   "execution_count": 4,
   "metadata": {},
   "outputs": [],
   "source": [
    "# returns the number of guesses performed till success and the successful weight vector\n",
    "def guess_till_success():\n",
    "    counter = 0\n",
    "    weight_vector = None\n",
    "    total_reward = -200\n",
    "    while total_reward == -200:\n",
    "        counter += 1\n",
    "        weight_vector = np.random.rand(2) * 2.0 - 1.0\n",
    "        total_reward = run_episode(weight_vector)\n",
    "    return counter, weight_vector"
   ]
  },
  {
   "cell_type": "markdown",
   "metadata": {},
   "source": [
    "## Plot successful linear model agent ##"
   ]
  },
  {
   "cell_type": "code",
   "execution_count": 5,
   "metadata": {},
   "outputs": [],
   "source": [
    "counter, weight_vector = guess_till_success()"
   ]
  },
  {
   "cell_type": "code",
   "execution_count": 6,
   "metadata": {},
   "outputs": [
    {
     "name": "stdout",
     "output_type": "stream",
     "text": [
      "Number of guesses: 141\n",
      "Weight vector: [-0.01941454  0.7243805 ]\n"
     ]
    }
   ],
   "source": [
    "print(\"Number of guesses:\", counter)\n",
    "print(\"Weight vector:\", weight_vector)"
   ]
  },
  {
   "cell_type": "code",
   "execution_count": 7,
   "metadata": {},
   "outputs": [
    {
     "name": "stdout",
     "output_type": "stream",
     "text": [
      "Total reward: -121.0\n"
     ]
    }
   ],
   "source": [
    "total_reward = 0\n",
    "done = False\n",
    "state = env.reset()\n",
    "env.render()\n",
    "time.sleep(0.1)\n",
    "\n",
    "for _ in np.arange(200):\n",
    "    action = 0 if np.matmul(weight_vector, state) < 0 else 2\n",
    "    state, reward, done, _ = env.step(action)\n",
    "    total_reward += reward\n",
    "    env.render()\n",
    "    time.sleep(0.1)\n",
    "    if done: break\n",
    "    \n",
    "env.close()\n",
    "print(\"Total reward:\", total_reward)"
   ]
  },
  {
   "cell_type": "code",
   "execution_count": null,
   "metadata": {},
   "outputs": [],
   "source": []
  }
 ],
 "metadata": {
  "kernelspec": {
   "display_name": "Python 2",
   "language": "python",
   "name": "python2"
  },
  "language_info": {
   "codemirror_mode": {
    "name": "ipython",
    "version": 2
   },
   "file_extension": ".py",
   "mimetype": "text/x-python",
   "name": "python",
   "nbconvert_exporter": "python",
   "pygments_lexer": "ipython2",
   "version": "2.7.15"
  }
 },
 "nbformat": 4,
 "nbformat_minor": 2
}
