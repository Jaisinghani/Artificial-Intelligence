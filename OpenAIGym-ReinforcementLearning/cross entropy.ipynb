{
 "cells": [
  {
   "cell_type": "code",
   "execution_count": 13,
   "metadata": {},
   "outputs": [],
   "source": [
    "import torch\n",
    "import torch.nn as nn\n",
    "import torch.nn.functional as F\n",
    "from torch.autograd import Variable\n",
    "import numpy as np\n",
    "import math\n",
    "import gym\n",
    "from collections import deque\n",
    "import matplotlib.pyplot as plt"
   ]
  },
  {
   "cell_type": "code",
   "execution_count": 14,
   "metadata": {},
   "outputs": [
    {
     "name": "stdout",
     "output_type": "stream",
     "text": [
      "\u001b[33mWARN: gym.spaces.Box autodetected dtype as <class 'numpy.float32'>. Please provide explicit dtype.\u001b[0m\n",
      "\u001b[33mWARN: gym.spaces.Box autodetected dtype as <class 'numpy.float32'>. Please provide explicit dtype.\u001b[0m\n"
     ]
    }
   ],
   "source": [
    "if torch.cuda.is_available():\n",
    "    d=torch.device(\"cuda:0\")\n",
    "else:\n",
    "    d=torch.device(\"cpu\")\n",
    "env=gym.make('MountainCarContinuous-v0')\n",
    "env.seed(101)\n",
    "np.random.seed(101)"
   ]
  },
  {
   "cell_type": "code",
   "execution_count": 20,
   "metadata": {},
   "outputs": [],
   "source": [
    "class Agent(nn.Module):\n",
    "    def __init__(self,env,h=16):\n",
    "        super(Agent,self).__init__()\n",
    "        self.env=env\n",
    "        self.s=env.observation_space.shape[0]\n",
    "        self.h=h\n",
    "        self.a=env.action_space.shape[0]\n",
    "        self.fc1=nn.Linear(self.s,self.h)\n",
    "        self.fc2=nn.Linear(self.h,self.a)\n",
    "        \n",
    "    def set_w(self,w):\n",
    "        s=self.s\n",
    "        h=self.h\n",
    "        a=self.a\n",
    "        end=(s*h)+h\n",
    "        w1=torch.from_numpy(w[:s*h].reshape(s,h))\n",
    "        b1=torch.from_numpy(w[s*h:end])\n",
    "        w2=torch.from_numpy(w[end:end+(h*a)].reshape(h,a))\n",
    "        b2=torch.from_numpy(w[end+(h*a):])\n",
    "        self.fc1.weight.data.copy_(w1.view_as(self.fc1.weight.data))\n",
    "        self.fc1.bias.data.copy_(b1.view_as(self.fc1.bias.data))\n",
    "        self.fc2.weight.data.copy_(w2.view_as(self.fc2.weight.data))\n",
    "        self.fc2.bias.data.copy_(b2.view_as(self.fc2.bias.data))\n",
    "    \n",
    "    def get_weights_dim(self):\n",
    "        return (self.s+1)*self.h+(self.h+1)*self.a\n",
    "        \n",
    "    def forward(self,a):\n",
    "        a=F.relu(self.fc1(a))\n",
    "        a=F.tanh(self.fc2(a))\n",
    "        return a.cpu().data\n",
    "        \n",
    "    def evaluate(self,w,g=1.0,t=5000):\n",
    "        self.set_w(w)\n",
    "        er=0.0\n",
    "        state=self.env.reset()\n",
    "        for t in range(t):\n",
    "            state=torch.from_numpy(state).float().to(d)\n",
    "            action=self.forward(state)\n",
    "            state,r,done,_=self.env.step(action)\n",
    "            er+=r*math.pow(g,t)\n",
    "            if done:\n",
    "                break\n",
    "        return er\n",
    "    \n",
    "agent=Agent(env).to(d)"
   ]
  },
  {
   "cell_type": "code",
   "execution_count": 21,
   "metadata": {},
   "outputs": [
    {
     "name": "stderr",
     "output_type": "stream",
     "text": [
      "/anaconda3/lib/python3.7/site-packages/torch/nn/functional.py:995: UserWarning: nn.functional.tanh is deprecated. Use torch.tanh instead.\n",
      "  warnings.warn(\"nn.functional.tanh is deprecated. Use torch.tanh instead.\")\n"
     ]
    },
    {
     "name": "stdout",
     "output_type": "stream",
     "text": [
      "Episode 10\tAverage Score:-1.44\n",
      "Episode 20\tAverage Score:-3.98\n",
      "Episode 30\tAverage Score:-4.18\n",
      "Episode 40\tAverage Score:2.57\n",
      "Episode 50\tAverage Score:18.74\n",
      "Episode 60\tAverage Score:29.35\n",
      "Episode 70\tAverage Score:38.69\n",
      "Episode 80\tAverage Score:45.65\n",
      "Episode 90\tAverage Score:47.98\n",
      "Episode 100\tAverage Score:52.56\n",
      "Episode 110\tAverage Score:62.09\n",
      "Episode 120\tAverage Score:72.28\n",
      "Episode 130\tAverage Score:82.21\n",
      "Episode 140\tAverage Score:89.48\n",
      "\n",
      "Environment solved in 47 iterations!\n",
      "Average Score: 90.83\n"
     ]
    },
    {
     "data": {
      "image/png": "[encoded data removed]",
      "text/plain": [
       "<Figure size 432x288 with 1 Axes>"
      ]
     },
     "metadata": {
      "needs_background": "light"
     },
     "output_type": "display_data"
    }
   ],
   "source": [
    "def cem(iterations=500,t=1000,g=1.0,td=10,ps=50,ef=0.2,s=0.5):\n",
    "    elite=int(ps*ef)\n",
    "    sd=deque(maxlen=100)\n",
    "    scores=list()\n",
    "    bw=s*np.random.randn(agent.get_weights_dim())\n",
    "    for iter in range(1, iterations+1):\n",
    "        wp=[bw+(s*np.random.randn(agent.get_weights_dim())) for i in range(ps)]\n",
    "        reward=np.array([agent.evaluate(weights,g,t) for weights in wp])\n",
    "        ei=reward.argsort()[-elite:]\n",
    "        ew=[wp[i] for i in ei]\n",
    "        bw=np.array(ew).mean(axis=0)\n",
    "        r=agent.evaluate(bw,g=1.0)\n",
    "        sd.append(r)\n",
    "        scores.append(r)\n",
    "        torch.save(agent.state_dict(),'checkpoint.pth')\n",
    "        if iter%td==0:\n",
    "            print('Episode {}\\tAverage Score:{:.2f}'.format(iter,np.mean(sd)))\n",
    "        if np.mean(sd)>=90.0:\n",
    "            print('\\nEnvironment solved in {:d} iterations!\\nAverage Score: {:.2f}'.format(iter-100,np.mean(sd)))\n",
    "            break\n",
    "    return scores\n",
    "\n",
    "scores=cem()\n",
    "fig=plt.figure()\n",
    "ax=fig.add_subplot(111)\n",
    "plt.plot(np.arange(1,len(scores)+1),scores)\n",
    "plt.ylabel('Score')\n",
    "plt.xlabel('Episodes')\n",
    "plt.show()"
   ]
  },
  {
   "cell_type": "code",
   "execution_count": 23,
   "metadata": {},
   "outputs": [
    {
     "name": "stderr",
     "output_type": "stream",
     "text": [
      "/anaconda3/lib/python3.7/site-packages/torch/nn/functional.py:995: UserWarning: nn.functional.tanh is deprecated. Use torch.tanh instead.\n",
      "  warnings.warn(\"nn.functional.tanh is deprecated. Use torch.tanh instead.\")\n"
     ]
    }
   ],
   "source": [
    "agent.load_state_dict(torch.load('checkpoint.pth'))\n",
    "state=env.reset()\n",
    "while True:\n",
    "    state=torch.from_numpy(state).float().to(d)\n",
    "    with torch.no_grad():\n",
    "        action=agent(state)\n",
    "    env.render()\n",
    "    ns,r,finished,_=env.step(action)\n",
    "    state=ns\n",
    "    if finished:\n",
    "        break\n",
    "env.close()"
   ]
  },
  {
   "cell_type": "code",
   "execution_count": null,
   "metadata": {},
   "outputs": [],
   "source": []
  },
  {
   "cell_type": "code",
   "execution_count": null,
   "metadata": {},
   "outputs": [],
   "source": []
  }
 ],
 "metadata": {
  "kernelspec": {
   "display_name": "Python 3",
   "language": "python",
   "name": "python3"
  },
  "language_info": {
   "codemirror_mode": {
    "name": "ipython",
    "version": 3
   },
   "file_extension": ".py",
   "mimetype": "text/x-python",
   "name": "python",
   "nbconvert_exporter": "python",
   "pygments_lexer": "ipython3",
   "version": "3.7.0"
  }
 },
 "nbformat": 4,
 "nbformat_minor": 2
}
